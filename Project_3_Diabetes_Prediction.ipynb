{
  "nbformat": 4,
  "nbformat_minor": 0,
  "metadata": {
    "colab": {
      "name": "Project 3 - Diabetes Prediction.ipynb",
      "provenance": [],
      "include_colab_link": true
    },
    "kernelspec": {
      "name": "python3",
      "display_name": "Python 3"
    }
  },
  "cells": [
    {
      "cell_type": "markdown",
      "metadata": {
        "id": "view-in-github",
        "colab_type": "text"
      },
      "source": [
        "<a href=\"https://colab.research.google.com/github/vrindaBindal2712/Diabetes-Prediction-using-Machine-Learning-with-Python-/blob/main/Project_3_Diabetes_Prediction.ipynb\" target=\"_parent\"><img src=\"https://colab.research.google.com/assets/colab-badge.svg\" alt=\"Open In Colab\"/></a>"
      ]
    },
    {
      "cell_type": "markdown",
      "metadata": {
        "id": "LnPbntVRnfvV"
      },
      "source": [
        "Importing the Dependencies"
      ]
    },
    {
      "cell_type": "code",
      "metadata": {
        "id": "-71UtHzNVWjB"
      },
      "source": [
        "import numpy as np\n",
        "import pandas as pd\n",
        "from sklearn.preprocessing import StandardScaler\n",
        "from sklearn.model_selection import train_test_split\n",
        "from sklearn import svm\n",
        "from sklearn.metrics import accuracy_score"
      ],
      "execution_count": null,
      "outputs": []
    },
    {
      "cell_type": "markdown",
      "metadata": {
        "id": "bmfOfG8joBBy"
      },
      "source": [
        "Data Collection and Analysis\n",
        "\n",
        "PIMA Diabetes Dataset"
      ]
    },
    {
      "cell_type": "code",
      "metadata": {
        "id": "Xpw6Mj_pn_TL"
      },
      "source": [
        "# loading the diabetes dataset to a pandas DataFrame\n",
        "diabetes_dataset = pd.read_csv('/content/diabetes.csv')"
      ],
      "execution_count": null,
      "outputs": []
    },
    {
      "cell_type": "code",
      "metadata": {
        "id": "eupSUC7yoo9M"
      },
      "source": [
        "pd.read_csv?"
      ],
      "execution_count": null,
      "outputs": []
    },
    {
      "cell_type": "code",
      "metadata": {
        "colab": {
          "base_uri": "https://localhost:8080/",
          "height": 198
        },
        "id": "-tjO09ncovoh",
        "outputId": "c566e83c-4729-4e62-887d-485b52b923d9"
      },
      "source": [
        "# printing the first 5 rows of the dataset\n",
        "diabetes_dataset.head()"
      ],
      "execution_count": null,
      "outputs": [
        {
          "output_type": "execute_result",
          "data": {
            "text/html": [
              "<div>\n",
              "<style scoped>\n",
              "    .dataframe tbody tr th:only-of-type {\n",
              "        vertical-align: middle;\n",
              "    }\n",
              "\n",
              "    .dataframe tbody tr th {\n",
              "        vertical-align: top;\n",
              "    }\n",
              "\n",
              "    .dataframe thead th {\n",
              "        text-align: right;\n",
              "    }\n",
              "</style>\n",
              "<table border=\"1\" class=\"dataframe\">\n",
              "  <thead>\n",
              "    <tr style=\"text-align: right;\">\n",
              "      <th></th>\n",
              "      <th>Pregnancies</th>\n",
              "      <th>Glucose</th>\n",
              "      <th>BloodPressure</th>\n",
              "      <th>SkinThickness</th>\n",
              "      <th>Insulin</th>\n",
              "      <th>BMI</th>\n",
              "      <th>DiabetesPedigreeFunction</th>\n",
              "      <th>Age</th>\n",
              "      <th>Outcome</th>\n",
              "    </tr>\n",
              "  </thead>\n",
              "  <tbody>\n",
              "    <tr>\n",
              "      <th>0</th>\n",
              "      <td>6</td>\n",
              "      <td>148</td>\n",
              "      <td>72</td>\n",
              "      <td>35</td>\n",
              "      <td>0</td>\n",
              "      <td>33.6</td>\n",
              "      <td>0.627</td>\n",
              "      <td>50</td>\n",
              "      <td>1</td>\n",
              "    </tr>\n",
              "    <tr>\n",
              "      <th>1</th>\n",
              "      <td>1</td>\n",
              "      <td>85</td>\n",
              "      <td>66</td>\n",
              "      <td>29</td>\n",
              "      <td>0</td>\n",
              "      <td>26.6</td>\n",
              "      <td>0.351</td>\n",
              "      <td>31</td>\n",
              "      <td>0</td>\n",
              "    </tr>\n",
              "    <tr>\n",
              "      <th>2</th>\n",
              "      <td>8</td>\n",
              "      <td>183</td>\n",
              "      <td>64</td>\n",
              "      <td>0</td>\n",
              "      <td>0</td>\n",
              "      <td>23.3</td>\n",
              "      <td>0.672</td>\n",
              "      <td>32</td>\n",
              "      <td>1</td>\n",
              "    </tr>\n",
              "    <tr>\n",
              "      <th>3</th>\n",
              "      <td>1</td>\n",
              "      <td>89</td>\n",
              "      <td>66</td>\n",
              "      <td>23</td>\n",
              "      <td>94</td>\n",
              "      <td>28.1</td>\n",
              "      <td>0.167</td>\n",
              "      <td>21</td>\n",
              "      <td>0</td>\n",
              "    </tr>\n",
              "    <tr>\n",
              "      <th>4</th>\n",
              "      <td>0</td>\n",
              "      <td>137</td>\n",
              "      <td>40</td>\n",
              "      <td>35</td>\n",
              "      <td>168</td>\n",
              "      <td>43.1</td>\n",
              "      <td>2.288</td>\n",
              "      <td>33</td>\n",
              "      <td>1</td>\n",
              "    </tr>\n",
              "  </tbody>\n",
              "</table>\n",
              "</div>"
            ],
            "text/plain": [
              "   Pregnancies  Glucose  BloodPressure  ...  DiabetesPedigreeFunction  Age  Outcome\n",
              "0            6      148             72  ...                     0.627   50        1\n",
              "1            1       85             66  ...                     0.351   31        0\n",
              "2            8      183             64  ...                     0.672   32        1\n",
              "3            1       89             66  ...                     0.167   21        0\n",
              "4            0      137             40  ...                     2.288   33        1\n",
              "\n",
              "[5 rows x 9 columns]"
            ]
          },
          "metadata": {
            "tags": []
          },
          "execution_count": 4
        }
      ]
    },
    {
      "cell_type": "code",
      "metadata": {
        "colab": {
          "base_uri": "https://localhost:8080/"
        },
        "id": "lynParo6pEMB",
        "outputId": "4c71bc91-33d7-45a8-8510-db04a31fa634"
      },
      "source": [
        "# number of rows and Columns in this dataset\n",
        "diabetes_dataset.shape"
      ],
      "execution_count": null,
      "outputs": [
        {
          "output_type": "execute_result",
          "data": {
            "text/plain": [
              "(768, 9)"
            ]
          },
          "metadata": {
            "tags": []
          },
          "execution_count": 5
        }
      ]
    },
    {
      "cell_type": "code",
      "metadata": {
        "colab": {
          "base_uri": "https://localhost:8080/",
          "height": 288
        },
        "id": "3NDJOlrEpmoL",
        "outputId": "afa1fd6c-4c87-4f2a-d91f-ef7c775701e5"
      },
      "source": [
        "# getting the statistical measures of the data\n",
        "diabetes_dataset.describe()"
      ],
      "execution_count": null,
      "outputs": [
        {
          "output_type": "execute_result",
          "data": {
            "text/html": [
              "<div>\n",
              "<style scoped>\n",
              "    .dataframe tbody tr th:only-of-type {\n",
              "        vertical-align: middle;\n",
              "    }\n",
              "\n",
              "    .dataframe tbody tr th {\n",
              "        vertical-align: top;\n",
              "    }\n",
              "\n",
              "    .dataframe thead th {\n",
              "        text-align: right;\n",
              "    }\n",
              "</style>\n",
              "<table border=\"1\" class=\"dataframe\">\n",
              "  <thead>\n",
              "    <tr style=\"text-align: right;\">\n",
              "      <th></th>\n",
              "      <th>Pregnancies</th>\n",
              "      <th>Glucose</th>\n",
              "      <th>BloodPressure</th>\n",
              "      <th>SkinThickness</th>\n",
              "      <th>Insulin</th>\n",
              "      <th>BMI</th>\n",
              "      <th>DiabetesPedigreeFunction</th>\n",
              "      <th>Age</th>\n",
              "      <th>Outcome</th>\n",
              "    </tr>\n",
              "  </thead>\n",
              "  <tbody>\n",
              "    <tr>\n",
              "      <th>count</th>\n",
              "      <td>768.000000</td>\n",
              "      <td>768.000000</td>\n",
              "      <td>768.000000</td>\n",
              "      <td>768.000000</td>\n",
              "      <td>768.000000</td>\n",
              "      <td>768.000000</td>\n",
              "      <td>768.000000</td>\n",
              "      <td>768.000000</td>\n",
              "      <td>768.000000</td>\n",
              "    </tr>\n",
              "    <tr>\n",
              "      <th>mean</th>\n",
              "      <td>3.845052</td>\n",
              "      <td>120.894531</td>\n",
              "      <td>69.105469</td>\n",
              "      <td>20.536458</td>\n",
              "      <td>79.799479</td>\n",
              "      <td>31.992578</td>\n",
              "      <td>0.471876</td>\n",
              "      <td>33.240885</td>\n",
              "      <td>0.348958</td>\n",
              "    </tr>\n",
              "    <tr>\n",
              "      <th>std</th>\n",
              "      <td>3.369578</td>\n",
              "      <td>31.972618</td>\n",
              "      <td>19.355807</td>\n",
              "      <td>15.952218</td>\n",
              "      <td>115.244002</td>\n",
              "      <td>7.884160</td>\n",
              "      <td>0.331329</td>\n",
              "      <td>11.760232</td>\n",
              "      <td>0.476951</td>\n",
              "    </tr>\n",
              "    <tr>\n",
              "      <th>min</th>\n",
              "      <td>0.000000</td>\n",
              "      <td>0.000000</td>\n",
              "      <td>0.000000</td>\n",
              "      <td>0.000000</td>\n",
              "      <td>0.000000</td>\n",
              "      <td>0.000000</td>\n",
              "      <td>0.078000</td>\n",
              "      <td>21.000000</td>\n",
              "      <td>0.000000</td>\n",
              "    </tr>\n",
              "    <tr>\n",
              "      <th>25%</th>\n",
              "      <td>1.000000</td>\n",
              "      <td>99.000000</td>\n",
              "      <td>62.000000</td>\n",
              "      <td>0.000000</td>\n",
              "      <td>0.000000</td>\n",
              "      <td>27.300000</td>\n",
              "      <td>0.243750</td>\n",
              "      <td>24.000000</td>\n",
              "      <td>0.000000</td>\n",
              "    </tr>\n",
              "    <tr>\n",
              "      <th>50%</th>\n",
              "      <td>3.000000</td>\n",
              "      <td>117.000000</td>\n",
              "      <td>72.000000</td>\n",
              "      <td>23.000000</td>\n",
              "      <td>30.500000</td>\n",
              "      <td>32.000000</td>\n",
              "      <td>0.372500</td>\n",
              "      <td>29.000000</td>\n",
              "      <td>0.000000</td>\n",
              "    </tr>\n",
              "    <tr>\n",
              "      <th>75%</th>\n",
              "      <td>6.000000</td>\n",
              "      <td>140.250000</td>\n",
              "      <td>80.000000</td>\n",
              "      <td>32.000000</td>\n",
              "      <td>127.250000</td>\n",
              "      <td>36.600000</td>\n",
              "      <td>0.626250</td>\n",
              "      <td>41.000000</td>\n",
              "      <td>1.000000</td>\n",
              "    </tr>\n",
              "    <tr>\n",
              "      <th>max</th>\n",
              "      <td>17.000000</td>\n",
              "      <td>199.000000</td>\n",
              "      <td>122.000000</td>\n",
              "      <td>99.000000</td>\n",
              "      <td>846.000000</td>\n",
              "      <td>67.100000</td>\n",
              "      <td>2.420000</td>\n",
              "      <td>81.000000</td>\n",
              "      <td>1.000000</td>\n",
              "    </tr>\n",
              "  </tbody>\n",
              "</table>\n",
              "</div>"
            ],
            "text/plain": [
              "       Pregnancies     Glucose  ...         Age     Outcome\n",
              "count   768.000000  768.000000  ...  768.000000  768.000000\n",
              "mean      3.845052  120.894531  ...   33.240885    0.348958\n",
              "std       3.369578   31.972618  ...   11.760232    0.476951\n",
              "min       0.000000    0.000000  ...   21.000000    0.000000\n",
              "25%       1.000000   99.000000  ...   24.000000    0.000000\n",
              "50%       3.000000  117.000000  ...   29.000000    0.000000\n",
              "75%       6.000000  140.250000  ...   41.000000    1.000000\n",
              "max      17.000000  199.000000  ...   81.000000    1.000000\n",
              "\n",
              "[8 rows x 9 columns]"
            ]
          },
          "metadata": {
            "tags": []
          },
          "execution_count": 6
        }
      ]
    },
    {
      "cell_type": "code",
      "metadata": {
        "colab": {
          "base_uri": "https://localhost:8080/"
        },
        "id": "LrpHzaGpp5dQ",
        "outputId": "b265441f-7d9f-4f4d-9128-7b80fa4e41c9"
      },
      "source": [
        "diabetes_dataset['Outcome'].value_counts()"
      ],
      "execution_count": null,
      "outputs": [
        {
          "output_type": "execute_result",
          "data": {
            "text/plain": [
              "0    500\n",
              "1    268\n",
              "Name: Outcome, dtype: int64"
            ]
          },
          "metadata": {
            "tags": []
          },
          "execution_count": 7
        }
      ]
    },
    {
      "cell_type": "markdown",
      "metadata": {
        "id": "cB1qRaNcqeh5"
      },
      "source": [
        "0 --> Non-Diabetic\n",
        "\n",
        "1 --> Diabetic"
      ]
    },
    {
      "cell_type": "code",
      "metadata": {
        "colab": {
          "base_uri": "https://localhost:8080/",
          "height": 138
        },
        "id": "I6MWR0k_qSCK",
        "outputId": "d2aba08b-5d59-470d-d48b-da3c7befcc38"
      },
      "source": [
        "diabetes_dataset.groupby('Outcome').mean()"
      ],
      "execution_count": null,
      "outputs": [
        {
          "output_type": "execute_result",
          "data": {
            "text/html": [
              "<div>\n",
              "<style scoped>\n",
              "    .dataframe tbody tr th:only-of-type {\n",
              "        vertical-align: middle;\n",
              "    }\n",
              "\n",
              "    .dataframe tbody tr th {\n",
              "        vertical-align: top;\n",
              "    }\n",
              "\n",
              "    .dataframe thead th {\n",
              "        text-align: right;\n",
              "    }\n",
              "</style>\n",
              "<table border=\"1\" class=\"dataframe\">\n",
              "  <thead>\n",
              "    <tr style=\"text-align: right;\">\n",
              "      <th></th>\n",
              "      <th>Pregnancies</th>\n",
              "      <th>Glucose</th>\n",
              "      <th>BloodPressure</th>\n",
              "      <th>SkinThickness</th>\n",
              "      <th>Insulin</th>\n",
              "      <th>BMI</th>\n",
              "      <th>DiabetesPedigreeFunction</th>\n",
              "      <th>Age</th>\n",
              "    </tr>\n",
              "    <tr>\n",
              "      <th>Outcome</th>\n",
              "      <th></th>\n",
              "      <th></th>\n",
              "      <th></th>\n",
              "      <th></th>\n",
              "      <th></th>\n",
              "      <th></th>\n",
              "      <th></th>\n",
              "      <th></th>\n",
              "    </tr>\n",
              "  </thead>\n",
              "  <tbody>\n",
              "    <tr>\n",
              "      <th>0</th>\n",
              "      <td>3.298000</td>\n",
              "      <td>109.980000</td>\n",
              "      <td>68.184000</td>\n",
              "      <td>19.664000</td>\n",
              "      <td>68.792000</td>\n",
              "      <td>30.304200</td>\n",
              "      <td>0.429734</td>\n",
              "      <td>31.190000</td>\n",
              "    </tr>\n",
              "    <tr>\n",
              "      <th>1</th>\n",
              "      <td>4.865672</td>\n",
              "      <td>141.257463</td>\n",
              "      <td>70.824627</td>\n",
              "      <td>22.164179</td>\n",
              "      <td>100.335821</td>\n",
              "      <td>35.142537</td>\n",
              "      <td>0.550500</td>\n",
              "      <td>37.067164</td>\n",
              "    </tr>\n",
              "  </tbody>\n",
              "</table>\n",
              "</div>"
            ],
            "text/plain": [
              "         Pregnancies     Glucose  ...  DiabetesPedigreeFunction        Age\n",
              "Outcome                           ...                                     \n",
              "0           3.298000  109.980000  ...                  0.429734  31.190000\n",
              "1           4.865672  141.257463  ...                  0.550500  37.067164\n",
              "\n",
              "[2 rows x 8 columns]"
            ]
          },
          "metadata": {
            "tags": []
          },
          "execution_count": 8
        }
      ]
    },
    {
      "cell_type": "code",
      "metadata": {
        "id": "RoDW7l9mqqHZ"
      },
      "source": [
        "# separating the data and labels\n",
        "X = diabetes_dataset.drop(columns = 'Outcome', axis=1)\n",
        "Y = diabetes_dataset['Outcome']"
      ],
      "execution_count": null,
      "outputs": []
    },
    {
      "cell_type": "code",
      "metadata": {
        "colab": {
          "base_uri": "https://localhost:8080/"
        },
        "id": "3eiRW9M9raMm",
        "outputId": "0484d0a6-eefd-4964-f3f1-062b48147705"
      },
      "source": [
        "print(X)"
      ],
      "execution_count": null,
      "outputs": [
        {
          "output_type": "stream",
          "text": [
            "     Pregnancies  Glucose  BloodPressure  ...   BMI  DiabetesPedigreeFunction  Age\n",
            "0              6      148             72  ...  33.6                     0.627   50\n",
            "1              1       85             66  ...  26.6                     0.351   31\n",
            "2              8      183             64  ...  23.3                     0.672   32\n",
            "3              1       89             66  ...  28.1                     0.167   21\n",
            "4              0      137             40  ...  43.1                     2.288   33\n",
            "..           ...      ...            ...  ...   ...                       ...  ...\n",
            "763           10      101             76  ...  32.9                     0.171   63\n",
            "764            2      122             70  ...  36.8                     0.340   27\n",
            "765            5      121             72  ...  26.2                     0.245   30\n",
            "766            1      126             60  ...  30.1                     0.349   47\n",
            "767            1       93             70  ...  30.4                     0.315   23\n",
            "\n",
            "[768 rows x 8 columns]\n"
          ],
          "name": "stdout"
        }
      ]
    },
    {
      "cell_type": "code",
      "metadata": {
        "colab": {
          "base_uri": "https://localhost:8080/"
        },
        "id": "AoxgTJAMrcCl",
        "outputId": "1b30c829-67e6-4e0f-c930-4dc054a3139d"
      },
      "source": [
        "print(Y)"
      ],
      "execution_count": null,
      "outputs": [
        {
          "output_type": "stream",
          "text": [
            "0      1\n",
            "1      0\n",
            "2      1\n",
            "3      0\n",
            "4      1\n",
            "      ..\n",
            "763    0\n",
            "764    0\n",
            "765    0\n",
            "766    1\n",
            "767    0\n",
            "Name: Outcome, Length: 768, dtype: int64\n"
          ],
          "name": "stdout"
        }
      ]
    },
    {
      "cell_type": "markdown",
      "metadata": {
        "id": "umAbo_kqrlzI"
      },
      "source": [
        "Data Standardization"
      ]
    },
    {
      "cell_type": "code",
      "metadata": {
        "id": "njfM5X60rgnc"
      },
      "source": [
        "scaler = StandardScaler()"
      ],
      "execution_count": null,
      "outputs": []
    },
    {
      "cell_type": "code",
      "metadata": {
        "colab": {
          "base_uri": "https://localhost:8080/"
        },
        "id": "g0ai5ARbr53p",
        "outputId": "f2c6f6f7-87c8-4468-cbd5-e0b6b8636d60"
      },
      "source": [
        "scaler.fit(X)"
      ],
      "execution_count": null,
      "outputs": [
        {
          "output_type": "execute_result",
          "data": {
            "text/plain": [
              "StandardScaler(copy=True, with_mean=True, with_std=True)"
            ]
          },
          "metadata": {
            "tags": []
          },
          "execution_count": 13
        }
      ]
    },
    {
      "cell_type": "code",
      "metadata": {
        "id": "FHxNwPuZr-kD"
      },
      "source": [
        "standardized_data = scaler.transform(X)"
      ],
      "execution_count": null,
      "outputs": []
    },
    {
      "cell_type": "code",
      "metadata": {
        "colab": {
          "base_uri": "https://localhost:8080/"
        },
        "id": "fjMwZ5x6sPUJ",
        "outputId": "2d8295c4-c5d0-4922-ba45-59d4ec114d36"
      },
      "source": [
        "print(standardized_data)"
      ],
      "execution_count": null,
      "outputs": [
        {
          "output_type": "stream",
          "text": [
            "[[ 0.63994726  0.84832379  0.14964075 ...  0.20401277  0.46849198\n",
            "   1.4259954 ]\n",
            " [-0.84488505 -1.12339636 -0.16054575 ... -0.68442195 -0.36506078\n",
            "  -0.19067191]\n",
            " [ 1.23388019  1.94372388 -0.26394125 ... -1.10325546  0.60439732\n",
            "  -0.10558415]\n",
            " ...\n",
            " [ 0.3429808   0.00330087  0.14964075 ... -0.73518964 -0.68519336\n",
            "  -0.27575966]\n",
            " [-0.84488505  0.1597866  -0.47073225 ... -0.24020459 -0.37110101\n",
            "   1.17073215]\n",
            " [-0.84488505 -0.8730192   0.04624525 ... -0.20212881 -0.47378505\n",
            "  -0.87137393]]\n"
          ],
          "name": "stdout"
        }
      ]
    },
    {
      "cell_type": "code",
      "metadata": {
        "id": "ZxWSl4SGsRjE"
      },
      "source": [
        "X = standardized_data\n",
        "Y = diabetes_dataset['Outcome']"
      ],
      "execution_count": null,
      "outputs": []
    },
    {
      "cell_type": "code",
      "metadata": {
        "colab": {
          "base_uri": "https://localhost:8080/"
        },
        "id": "lhJF_7QjsjmP",
        "outputId": "56cb64d4-a50b-4ecc-fcae-64df4dd293e7"
      },
      "source": [
        "print(X)\n",
        "print(Y)"
      ],
      "execution_count": null,
      "outputs": [
        {
          "output_type": "stream",
          "text": [
            "[[ 0.63994726  0.84832379  0.14964075 ...  0.20401277  0.46849198\n",
            "   1.4259954 ]\n",
            " [-0.84488505 -1.12339636 -0.16054575 ... -0.68442195 -0.36506078\n",
            "  -0.19067191]\n",
            " [ 1.23388019  1.94372388 -0.26394125 ... -1.10325546  0.60439732\n",
            "  -0.10558415]\n",
            " ...\n",
            " [ 0.3429808   0.00330087  0.14964075 ... -0.73518964 -0.68519336\n",
            "  -0.27575966]\n",
            " [-0.84488505  0.1597866  -0.47073225 ... -0.24020459 -0.37110101\n",
            "   1.17073215]\n",
            " [-0.84488505 -0.8730192   0.04624525 ... -0.20212881 -0.47378505\n",
            "  -0.87137393]]\n",
            "0      1\n",
            "1      0\n",
            "2      1\n",
            "3      0\n",
            "4      1\n",
            "      ..\n",
            "763    0\n",
            "764    0\n",
            "765    0\n",
            "766    1\n",
            "767    0\n",
            "Name: Outcome, Length: 768, dtype: int64\n"
          ],
          "name": "stdout"
        }
      ]
    },
    {
      "cell_type": "markdown",
      "metadata": {
        "id": "gHciEFkxsoQP"
      },
      "source": [
        "Train Test Split"
      ]
    },
    {
      "cell_type": "code",
      "metadata": {
        "id": "AEfKGj_yslvD"
      },
      "source": [
        "X_train, X_test, Y_train, Y_test = train_test_split(X,Y, test_size = 0.2, stratify=Y, random_state=2)"
      ],
      "execution_count": null,
      "outputs": []
    },
    {
      "cell_type": "code",
      "metadata": {
        "colab": {
          "base_uri": "https://localhost:8080/"
        },
        "id": "DR05T-o0t3FQ",
        "outputId": "fe062ec2-78bc-4fdf-a49e-ff5f8f41dab8"
      },
      "source": [
        "print(X.shape, X_train.shape, X_test.shape)"
      ],
      "execution_count": null,
      "outputs": [
        {
          "output_type": "stream",
          "text": [
            "(768, 8) (614, 8) (154, 8)\n"
          ],
          "name": "stdout"
        }
      ]
    },
    {
      "cell_type": "markdown",
      "metadata": {
        "id": "ElJ3tkOtuC_n"
      },
      "source": [
        "Training the Model"
      ]
    },
    {
      "cell_type": "code",
      "metadata": {
        "id": "5szLWHlNt9xc"
      },
      "source": [
        "classifier = svm.SVC(kernel='linear')"
      ],
      "execution_count": null,
      "outputs": []
    },
    {
      "cell_type": "code",
      "metadata": {
        "colab": {
          "base_uri": "https://localhost:8080/"
        },
        "id": "ncJWY_7suPAb",
        "outputId": "79051336-314b-4bb8-8ecc-0042130e3b62"
      },
      "source": [
        "#training the support vector Machine Classifier\n",
        "classifier.fit(X_train, Y_train)"
      ],
      "execution_count": null,
      "outputs": [
        {
          "output_type": "execute_result",
          "data": {
            "text/plain": [
              "SVC(C=1.0, break_ties=False, cache_size=200, class_weight=None, coef0=0.0,\n",
              "    decision_function_shape='ovr', degree=3, gamma='scale', kernel='linear',\n",
              "    max_iter=-1, probability=False, random_state=None, shrinking=True,\n",
              "    tol=0.001, verbose=False)"
            ]
          },
          "metadata": {
            "tags": []
          },
          "execution_count": 21
        }
      ]
    },
    {
      "cell_type": "markdown",
      "metadata": {
        "id": "UV4-CAfquiyP"
      },
      "source": [
        "Model Evaluation"
      ]
    },
    {
      "cell_type": "markdown",
      "metadata": {
        "id": "yhAjGPJWunXa"
      },
      "source": [
        "Accuracy Score"
      ]
    },
    {
      "cell_type": "code",
      "metadata": {
        "id": "fJLEPQK7ueXp"
      },
      "source": [
        "# accuracy score on the training data\n",
        "X_train_prediction = classifier.predict(X_train)\n",
        "training_data_accuracy = accuracy_score(X_train_prediction, Y_train)"
      ],
      "execution_count": null,
      "outputs": []
    },
    {
      "cell_type": "code",
      "metadata": {
        "colab": {
          "base_uri": "https://localhost:8080/"
        },
        "id": "mmJ22qhVvNwj",
        "outputId": "7a88a78f-6bde-4fc7-c0ab-8202fb64666d"
      },
      "source": [
        "print('Accuracy score of the training data : ', training_data_accuracy)"
      ],
      "execution_count": null,
      "outputs": [
        {
          "output_type": "stream",
          "text": [
            "Accuracy score of the training data :  0.7866449511400652\n"
          ],
          "name": "stdout"
        }
      ]
    },
    {
      "cell_type": "code",
      "metadata": {
        "id": "G2CICFMEvcCl"
      },
      "source": [
        "# accuracy score on the test data\n",
        "X_test_prediction = classifier.predict(X_test)\n",
        "test_data_accuracy = accuracy_score(X_test_prediction, Y_test)"
      ],
      "execution_count": null,
      "outputs": []
    },
    {
      "cell_type": "code",
      "metadata": {
        "colab": {
          "base_uri": "https://localhost:8080/"
        },
        "id": "i2GcW_t_vz7C",
        "outputId": "40615c34-c1c7-4740-df59-6f3ae56385d7"
      },
      "source": [
        "print('Accuracy score of the test data : ', test_data_accuracy)"
      ],
      "execution_count": null,
      "outputs": [
        {
          "output_type": "stream",
          "text": [
            "Accuracy score of the test data :  0.7727272727272727\n"
          ],
          "name": "stdout"
        }
      ]
    },
    {
      "cell_type": "markdown",
      "metadata": {
        "id": "gq8ZX1xpwPF5"
      },
      "source": [
        "Making a Predictive System"
      ]
    },
    {
      "cell_type": "code",
      "metadata": {
        "colab": {
          "base_uri": "https://localhost:8080/"
        },
        "id": "U-ULRe4yv5tH",
        "outputId": "98388b32-53bc-4c51-a04b-ca80a016f8bf"
      },
      "source": [
        "input_data = (5,166,72,19,175,25.8,0.587,51)\n",
        "\n",
        "# changing the input_data to numpy array\n",
        "input_data_as_numpy_array = np.asarray(input_data)\n",
        "\n",
        "# reshape the array as we are predicting for one instance\n",
        "input_data_reshaped = input_data_as_numpy_array.reshape(1,-1)\n",
        "\n",
        "# standardize the input data\n",
        "std_data = scaler.transform(input_data_reshaped)\n",
        "print(std_data)\n",
        "\n",
        "prediction = classifier.predict(std_data)\n",
        "print(prediction)\n",
        "\n",
        "if (prediction[0] == 0):\n",
        "  print('The person is not diabetic')\n",
        "else:\n",
        "  print('The person is diabetic')"
      ],
      "execution_count": null,
      "outputs": [
        {
          "output_type": "stream",
          "text": [
            "[[ 0.3429808   1.41167241  0.14964075 -0.09637905  0.82661621 -0.78595734\n",
            "   0.34768723  1.51108316]]\n",
            "[1]\n",
            "The person is diabetic\n"
          ],
          "name": "stdout"
        }
      ]
    },
    {
      "cell_type": "code",
      "source": [
        "# ---- Required Libraries ----\n",
        "import numpy as np\n",
        "import joblib\n",
        "from google.colab import widgets\n",
        "from IPython.display import display, clear_output\n",
        "\n",
        "\n",
        "\n",
        "# ---- Diabetes Prediction Function ----\n",
        "def predict_diabetes(Pregnancies, Glucose, BloodPressure, SkinThickness, Insulin, BMI, DiabetesPedigreeFunction, Age):\n",
        "    input_data = np.array([[Pregnancies, Glucose, BloodPressure, SkinThickness, Insulin, BMI, DiabetesPedigreeFunction, Age]])\n",
        "    input_data_std = scaler.transform(input_data)\n",
        "    prediction = classifier.predict(input_data_std)\n",
        "\n",
        "    # Clear previous output\n",
        "    clear_output()\n",
        "    print(\"\\n--- 🩺 Diabetes Prediction Result ---\")\n",
        "\n",
        "    if prediction[0] == 0:\n",
        "        print(\"✅ The person is **NOT diabetic**. Keep maintaining a healthy lifestyle! 💪\")\n",
        "        print(\"\\n🔹 **Health Tips:**\")\n",
        "        print(\"- ✅ Continue regular exercise 🏃‍♂️\")\n",
        "        print(\"- ✅ Maintain a balanced diet 🥗\")\n",
        "        print(\"- ✅ Regular check-ups with the doctor 👨‍⚕️\")\n",
        "    else:\n",
        "        print(\"⚠️ The person is **DIABETIC**. Consider consulting a doctor! 🚑\")\n",
        "        print(\"\\n🔸 **Health Recommendations:**\")\n",
        "        print(\"- 🔴 Monitor blood sugar levels regularly 📊\")\n",
        "        print(\"- 🥗 Adopt a diabetes-friendly diet 🍎\")\n",
        "        print(\"- 🚴 Engage in moderate physical activities\")\n",
        "        print(\"- 👨‍⚕️ Consult a healthcare provider\")\n",
        "\n",
        "    # Generate and display additional health tips\n",
        "    health_tips = get_health_tips(input_data[0], prediction[0])\n",
        "    print(\"\\n--- 📌 Additional Health Tips ---\")\n",
        "    for tip in health_tips:\n",
        "        print(\"✔️\", tip)\n",
        "\n",
        "# ---- Health Tips Function ----\n",
        "def get_health_tips(input_data, prediction):\n",
        "    glucose, bp, bmi = input_data[1], input_data[2], input_data[5]\n",
        "    tips = []\n",
        "\n",
        "    if prediction == 1:  # Diabetic\n",
        "        tips.append(\"⚠️ You are diabetic. Consider consulting a doctor.\")\n",
        "        tips.append(\"🥦 Follow a low-carb, high-fiber diet.\")\n",
        "        tips.append(\"🏃 Engage in regular physical activity (30 mins/day).\")\n",
        "        tips.append(\"🩸 Monitor your blood sugar levels regularly.\")\n",
        "\n",
        "    else:  # Not Diabetic\n",
        "        tips.append(\"✅ You are not diabetic! Maintain a healthy lifestyle.\")\n",
        "\n",
        "        # Check for high glucose\n",
        "        if glucose > 140:\n",
        "            tips.append(\"⚠️ High glucose detected! Reduce sugar intake.\")\n",
        "\n",
        "        # Check for high blood pressure\n",
        "        if bp > 80:\n",
        "            tips.append(\"⚠️ High BP! Avoid too much salt and processed foods.\")\n",
        "\n",
        "        # Check for high BMI\n",
        "        if bmi > 25:\n",
        "            tips.append(\"⚠️ High BMI! Exercise and maintain a balanced diet.\")\n",
        "\n",
        "    return tips\n",
        "\n",
        "# ---- Interactive Input Form (Google Colab) ----\n",
        "form = widgets.TabBar([\"🔹 Enter Your Health Data\"])\n",
        "with form.output_to(0):\n",
        "    Pregnancies = int(input(\"Enter number of Pregnancies: \"))\n",
        "    Glucose = float(input(\"Enter Glucose Level (mg/dL): \"))\n",
        "    BloodPressure = float(input(\"Enter Blood Pressure (mm Hg): \"))\n",
        "    SkinThickness = float(input(\"Enter Skin Thickness (mm): \"))\n",
        "    Insulin = float(input(\"Enter Insulin Level (µU/mL): \"))\n",
        "    BMI = float(input(\"Enter BMI: \"))\n",
        "    DiabetesPedigreeFunction = float(input(\"Enter Diabetes Pedigree Function: \"))\n",
        "    Age = int(input(\"Enter Age: \"))\n",
        "\n",
        "    # Make Prediction\n",
        "    predict_diabetes(Pregnancies, Glucose, BloodPressure, SkinThickness, Insulin, BMI, DiabetesPedigreeFunction, Age)\n"
      ],
      "metadata": {
        "id": "4xuPHELJ1BsC",
        "outputId": "d303bb34-cbb3-44d1-ac4a-3441652ee503",
        "colab": {
          "resources": {
            "http://localhost:8080/nbextensions/google.colab/tabbar.css": {
              "data": "Lmdvb2ctdGFie3Bvc2l0aW9uOnJlbGF0aXZlO3BhZGRpbmc6NHB4IDhweDtjb2xvcjojMDBjO3RleHQtZGVjb3JhdGlvbjp1bmRlcmxpbmU7Y3Vyc29yOmRlZmF1bHR9Lmdvb2ctdGFiLWJhci10b3AgLmdvb2ctdGFie21hcmdpbjoxcHggNHB4IDAgMDtib3JkZXItYm90dG9tOjA7ZmxvYXQ6bGVmdH0uZ29vZy10YWItYmFyLXRvcDphZnRlciwuZ29vZy10YWItYmFyLWJvdHRvbTphZnRlcntjb250ZW50OiIgIjtkaXNwbGF5OmJsb2NrO2hlaWdodDowO2NsZWFyOmJvdGg7dmlzaWJpbGl0eTpoaWRkZW59Lmdvb2ctdGFiLWJhci1ib3R0b20gLmdvb2ctdGFie21hcmdpbjowIDRweCAxcHggMDtib3JkZXItdG9wOjA7ZmxvYXQ6bGVmdH0uZ29vZy10YWItYmFyLXN0YXJ0IC5nb29nLXRhYnttYXJnaW46MCAwIDRweCAxcHg7Ym9yZGVyLXJpZ2h0OjB9Lmdvb2ctdGFiLWJhci1lbmQgLmdvb2ctdGFie21hcmdpbjowIDFweCA0cHggMDtib3JkZXItbGVmdDowfS5nb29nLXRhYi1ob3ZlcntiYWNrZ3JvdW5kOiNlZWV9Lmdvb2ctdGFiLWRpc2FibGVke2NvbG9yOiM2NjZ9Lmdvb2ctdGFiLXNlbGVjdGVke2NvbG9yOiMwMDA7YmFja2dyb3VuZDojZmZmO3RleHQtZGVjb3JhdGlvbjpub25lO2ZvbnQtd2VpZ2h0OmJvbGQ7Ym9yZGVyOjFweCBzb2xpZCAjNmI5MGRhfS5nb29nLXRhYi1iYXItdG9we3BhZGRpbmctdG9wOjVweCFpbXBvcnRhbnQ7cGFkZGluZy1sZWZ0OjVweCFpbXBvcnRhbnQ7Ym9yZGVyLWJvdHRvbToxcHggc29saWQgIzZiOTBkYSFpbXBvcnRhbnR9Lmdvb2ctdGFiLWJhci10b3AgLmdvb2ctdGFiLXNlbGVjdGVke3RvcDoxcHg7bWFyZ2luLXRvcDowO3BhZGRpbmctYm90dG9tOjVweH0uZ29vZy10YWItYmFyLWJvdHRvbSAuZ29vZy10YWItc2VsZWN0ZWR7dG9wOi0xcHg7bWFyZ2luLWJvdHRvbTowO3BhZGRpbmctdG9wOjVweH0uZ29vZy10YWItYmFyLXN0YXJ0IC5nb29nLXRhYi1zZWxlY3RlZHtsZWZ0OjFweDttYXJnaW4tbGVmdDowO3BhZGRpbmctcmlnaHQ6OXB4fS5nb29nLXRhYi1iYXItZW5kIC5nb29nLXRhYi1zZWxlY3RlZHtsZWZ0Oi0xcHg7bWFyZ2luLXJpZ2h0OjA7cGFkZGluZy1sZWZ0OjlweH0uZ29vZy10YWItYmFye21hcmdpbjowO2JvcmRlcjowO3BhZGRpbmc6MDtsaXN0LXN0eWxlOm5vbmU7Y3Vyc29yOmRlZmF1bHQ7b3V0bGluZTpub25lO2JhY2tncm91bmQ6I2ViZWZmOX0uZ29vZy10YWItYmFyLWNsZWFye2NsZWFyOmJvdGg7aGVpZ2h0OjA7b3ZlcmZsb3c6aGlkZGVufS5nb29nLXRhYi1iYXItc3RhcnR7ZmxvYXQ6bGVmdH0uZ29vZy10YWItYmFyLWVuZHtmbG9hdDpyaWdodH0qIGh0bWwgLmdvb2ctdGFiLWJhci1zdGFydHttYXJnaW4tcmlnaHQ6LTNweH0qIGh0bWwgLmdvb2ctdGFiLWJhci1lbmR7bWFyZ2luLWxlZnQ6LTNweH1zZW50aW5lbHt9",
              "ok": true,
              "headers": [
                [
                  "content-length",
                  "1404"
                ],
                [
                  "content-type",
                  "text/css"
                ]
              ],
              "status": 200,
              "status_text": ""
            },
            "http://localhost:8080/nbextensions/google.colab/tabbar_main.min.js": {
              "data": "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",
              "ok": true,
              "headers": [
                [
                  "content-length",
                  "41785"
                ],
                [
                  "content-type",
                  "application/javascript"
                ]
              ],
              "status": 200,
              "status_text": ""
            }
          },
          "base_uri": "https://localhost:8080/",
          "height": 208
        }
      },
      "execution_count": 46,
      "outputs": [
        {
          "output_type": "stream",
          "name": "stdout",
          "text": [
            "\n",
            "--- 🩺 Diabetes Prediction Result ---\n",
            "✅ The person is **NOT diabetic**. Keep maintaining a healthy lifestyle! 💪\n",
            "\n",
            "🔹 **Health Tips:**\n",
            "- ✅ Continue regular exercise 🏃‍♂️\n",
            "- ✅ Maintain a balanced diet 🥗\n",
            "- ✅ Regular check-ups with the doctor 👨‍⚕️\n",
            "\n",
            "--- 📌 Additional Health Tips ---\n",
            "✔️ ✅ You are not diabetic! Maintain a healthy lifestyle.\n"
          ]
        },
        {
          "output_type": "display_data",
          "data": {
            "text/plain": [
              "<IPython.core.display.Javascript object>"
            ],
            "application/javascript": [
              "window[\"a7019690-0a4d-11f0-93bd-0242ac1c000c\"] = google.colab.output.setActiveOutputArea(window[\"9db32ebe-0a4d-11f0-93bd-0242ac1c000c\"]);\n",
              "//# sourceURL=js_6255a30586"
            ]
          },
          "metadata": {}
        }
      ]
    },
    {
      "cell_type": "code",
      "source": [
        "import numpy as np\n",
        "import random\n",
        "import time\n",
        "import matplotlib.pyplot as plt\n",
        "\n",
        "# ---- Simulated User Data ----\n",
        "user = {\n",
        "    \"age\": random.randint(20, 50),\n",
        "    \"glucose\": random.randint(80, 160),\n",
        "    \"bmi\": round(random.uniform(18, 35), 1),\n",
        "    \"exercise\": random.choice([\"Low\", \"Moderate\", \"High\"]),\n",
        "    \"diet\": random.choice([\"Healthy\", \"Balanced\", \"Unhealthy\"]),\n",
        "    \"stress\": random.choice([\"Low\", \"Medium\", \"High\"]),\n",
        "    \"sleep\": random.choice([\"Poor\", \"Average\", \"Good\"])\n",
        "}\n",
        "\n",
        "# ---- Simulation Function ----\n",
        "def simulate_health():\n",
        "    health_score = 100  # Everyone starts at 100%\n",
        "    years = 5\n",
        "    history = []\n",
        "\n",
        "    print(\"\\n🔮 **Welcome to the Diabetes Risk Simulator!** 🔮\")\n",
        "    print(f\"👤 **Starting Health Stats:** {user}\")\n",
        "\n",
        "    for year in range(1, years + 1):\n",
        "        print(f\"\\n📆 **Year {year} Simulation...**\")\n",
        "        time.sleep(1)\n",
        "\n",
        "        # **Health Impact Based on Lifestyle Choices**\n",
        "        if user[\"diet\"] == \"Unhealthy\":\n",
        "            health_score -= random.randint(5, 12)\n",
        "        if user[\"exercise\"] == \"Low\":\n",
        "            health_score -= random.randint(5, 10)\n",
        "        if user[\"sleep\"] == \"Poor\":\n",
        "            health_score -= random.randint(3, 8)\n",
        "        if user[\"stress\"] == \"High\":\n",
        "            health_score -= random.randint(3, 7)\n",
        "\n",
        "        # **Glucose & BMI Trends Over Time**\n",
        "        user[\"glucose\"] += random.randint(0, 10) if user[\"diet\"] == \"Unhealthy\" else random.randint(-5, 5)\n",
        "        user[\"bmi\"] += round(random.uniform(-0.5, 0.5), 1)\n",
        "\n",
        "        # **Track the Health History**\n",
        "        history.append(health_score)\n",
        "\n",
        "        # **Virtual Health Avatar Response**\n",
        "        print(f\"📊 **Current Health Score:** {health_score}%\")\n",
        "        if health_score < 70:\n",
        "            print(\"⚠️ Your health is declining! Consider improving your diet & exercise.\")\n",
        "        if health_score < 50:\n",
        "            print(\"🚨 High diabetes risk! You need immediate lifestyle changes.\")\n",
        "\n",
        "    # ---- Show Health Trend Over 5 Years ----\n",
        "    plt.figure(figsize=(8, 5))\n",
        "    plt.plot(range(1, years + 1), history, marker=\"o\", linestyle=\"--\", color=\"red\")\n",
        "    plt.xlabel(\"Years\")\n",
        "    plt.ylabel(\"Health Score (%)\")\n",
        "    plt.title(\"📊 Your Health Over Time\")\n",
        "    plt.ylim(30, 100)\n",
        "    plt.grid()\n",
        "    plt.show()\n",
        "\n",
        "    print(\"\\n🔬 **Final Prediction**:\")\n",
        "    if health_score >= 80:\n",
        "        print(\"✅ You're in great health! Keep up your habits. 💪\")\n",
        "    elif health_score >= 60:\n",
        "        print(\"⚠️ Moderate Risk. Try improving your diet and exercise! 🍎🏃\")\n",
        "    else:\n",
        "        print(\"🚨 High Risk! You should consult a doctor ASAP. 🏥\")\n",
        "\n",
        "# ---- Start Simulation ----\n",
        "simulate_health()\n"
      ],
      "metadata": {
        "id": "ldPlPe4b2b3Z",
        "outputId": "7d8ecf38-a8e7-426b-d21a-9ee3035f2fcf",
        "colab": {
          "base_uri": "https://localhost:8080/",
          "height": 886
        }
      },
      "execution_count": 47,
      "outputs": [
        {
          "output_type": "stream",
          "name": "stdout",
          "text": [
            "\n",
            "🔮 **Welcome to the Diabetes Risk Simulator!** 🔮\n",
            "👤 **Starting Health Stats:** {'age': 39, 'glucose': 149, 'bmi': 34.9, 'exercise': 'High', 'diet': 'Healthy', 'stress': 'Medium', 'sleep': 'Poor'}\n",
            "\n",
            "📆 **Year 1 Simulation...**\n",
            "📊 **Current Health Score:** 95%\n",
            "\n",
            "📆 **Year 2 Simulation...**\n",
            "📊 **Current Health Score:** 90%\n",
            "\n",
            "📆 **Year 3 Simulation...**\n",
            "📊 **Current Health Score:** 85%\n",
            "\n",
            "📆 **Year 4 Simulation...**\n",
            "📊 **Current Health Score:** 80%\n",
            "\n",
            "📆 **Year 5 Simulation...**\n",
            "📊 **Current Health Score:** 73%\n"
          ]
        },
        {
          "output_type": "stream",
          "name": "stderr",
          "text": [
            "/usr/local/lib/python3.11/dist-packages/IPython/core/pylabtools.py:151: UserWarning: Glyph 128202 (\\N{BAR CHART}) missing from font(s) DejaVu Sans.\n",
            "  fig.canvas.print_figure(bytes_io, **kw)\n"
          ]
        },
        {
          "output_type": "display_data",
          "data": {
            "text/plain": [
              "<Figure size 800x500 with 1 Axes>"
            ],
            "image/png": "[encoded data removed]"
          },
          "metadata": {}
        },
        {
          "output_type": "stream",
          "name": "stdout",
          "text": [
            "\n",
            "🔬 **Final Prediction**:\n",
            "⚠️ Moderate Risk. Try improving your diet and exercise! 🍎🏃\n"
          ]
        }
      ]
    }
  ]
}